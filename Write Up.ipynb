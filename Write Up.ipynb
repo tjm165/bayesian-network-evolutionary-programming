{
 "cells": [
  {
   "cell_type": "markdown",
   "metadata": {},
   "source": [
    "## 0. Notes to Self"
   ]
  },
  {
   "cell_type": "markdown",
   "metadata": {},
   "source": [
    "### To Do:\n",
    "\n",
    "1. ~~In A_HEP I have a param for num_attr. However, just get this from the dataframe~~\n",
    "1. ~~Make a simple mock data~~\n",
    "1. ~~Run A_HEP on the mock data~~\n",
    "1. ~~There will probably be bugs so fix them~~\n",
    "1. ~~Visualize~~\n",
    "1. ~~I strayed off and started coding EP. This needs to sort `n_lowest_score` and then it should work. This is a good idea. The datatype is acting up?..~~\n",
    "1. Make your own library and a new notebook\n",
    "1. Get this working on the real data. This might include some data cleaning\n",
    "1. There will probably be bugs so fix them\n",
    "1. Try to teach common cause, common effect, etc...\n",
    "1. Make better mock data. Maybe a simpler network? \n",
    "1. Get the __increase_routine\n",
    "1. Get the __decrease_routine\n",
    "1. Get the merge\n",
    "1. Done with EP"
   ]
  },
  {
   "cell_type": "markdown",
   "metadata": {},
   "source": [
    "Explain Occam's Razor\n",
    "https://www.cs.cmu.edu/~aarti/Class/10704/lec13-MDL.pdf"
   ]
  },
  {
   "cell_type": "markdown",
   "metadata": {},
   "source": [
    "# 1. Evolutionary Programming"
   ]
  },
  {
   "cell_type": "markdown",
   "metadata": {},
   "source": [
    "## 1.1 What is Evolutionary Programming?\n",
    "\n",
    "TODO Write up this section. A diagram would be nice"
   ]
  },
  {
   "cell_type": "markdown",
   "metadata": {},
   "source": [
    "## 1.2 Mutations"
   ]
  },
  {
   "cell_type": "markdown",
   "metadata": {},
   "source": [
    "## 1.3 EP Algorithm\n",
    "\n",
    "When, who, pseudocode"
   ]
  },
  {
   "cell_type": "markdown",
   "metadata": {},
   "source": [
    "## 1.4 A-HEP"
   ]
  },
  {
   "cell_type": "markdown",
   "metadata": {},
   "source": [
    "# 2. MDL Score"
   ]
  },
  {
   "cell_type": "markdown",
   "metadata": {},
   "source": [
    "## 2.1 Intuition and Equation"
   ]
  },
  {
   "cell_type": "markdown",
   "metadata": {},
   "source": [
    "## 2.2 Experiment"
   ]
  },
  {
   "cell_type": "code",
   "execution_count": 6,
   "metadata": {},
   "outputs": [],
   "source": [
    "import pandas as pd\n",
    "from mdl_scorer import MDL_Scorer\n",
    "from network import network\n",
    "import matplotlib.pyplot as plt"
   ]
  },
  {
   "cell_type": "code",
   "execution_count": 7,
   "metadata": {},
   "outputs": [],
   "source": [
    "data = pd.DataFrame([['y', 'y', 'y'], ['n', 'n', 'n'], ['y', 'y', 'y'], ['n', 'y', 'n'], ['n', 'n', 'y']])\n",
    "data.columns = ['Rain', 'Wet Grass', 'Neighbors Grass is Wet']\n",
    "\n",
    "scorer = MDL_Scorer(data)\n",
    "\n",
    "def test(array):\n",
    "    n = network(np.array(array), data.columns)\n",
    "    n.draw()\n",
    "    print(scorer.score(n))"
   ]
  },
  {
   "cell_type": "code",
   "execution_count": 8,
   "metadata": {},
   "outputs": [
    {
     "data": {
      "text/plain": [
       "[<matplotlib.lines.Line2D at 0x7fc11024a250>]"
      ]
     },
     "execution_count": 8,
     "metadata": {},
     "output_type": "execute_result"
    },
    {
     "data": {
      "image/png": "[encoded data removed]",
      "text/plain": [
       "<Figure size 432x288 with 1 Axes>"
      ]
     },
     "metadata": {
      "needs_background": "light"
     },
     "output_type": "display_data"
    }
   ],
   "source": [
    "matrix = [[0, 0, 0], [0, 0, 0], [0, 0, 0]]\n",
    "n = network(matrix, data.columns)\n",
    "scores = [scorer.score(n)]\n",
    "\n",
    "for i in range(len(matrix)):\n",
    "    for j in range(len(matrix)):\n",
    "        if i != j:\n",
    "            n.matrix[i][j] = 1\n",
    "            scores.append(scorer.score(n))\n",
    "        \n",
    "plt.plot(list(range(len(scores))), scores)"
   ]
  },
  {
   "cell_type": "markdown",
   "metadata": {},
   "source": [
    "# 3. Learning Types of Causalities"
   ]
  },
  {
   "cell_type": "markdown",
   "metadata": {},
   "source": []
  },
  {
   "cell_type": "markdown",
   "metadata": {},
   "source": [
    "# 3. Simple Example"
   ]
  },
  {
   "cell_type": "markdown",
   "metadata": {},
   "source": [
    "## 3.1 EP\n",
    "\n",
    "## 3.2 A-HEP"
   ]
  },
  {
   "cell_type": "markdown",
   "metadata": {},
   "source": [
    "# 4. On Dataset"
   ]
  },
  {
   "cell_type": "markdown",
   "metadata": {},
   "source": [
    "## 4.1 Explain The Dataset"
   ]
  },
  {
   "cell_type": "markdown",
   "metadata": {},
   "source": [
    "# 5. How Reliable Is This?"
   ]
  },
  {
   "cell_type": "markdown",
   "metadata": {},
   "source": [
    "# 6. Insights - What I Would Recommend To This Bank"
   ]
  }
 ],
 "metadata": {
  "kernelspec": {
   "display_name": "Python 3",
   "language": "python",
   "name": "python3"
  },
  "language_info": {
   "codemirror_mode": {
    "name": "ipython",
    "version": 3
   },
   "file_extension": ".py",
   "mimetype": "text/x-python",
   "name": "python",
   "nbconvert_exporter": "python",
   "pygments_lexer": "ipython3",
   "version": "3.7.4"
  }
 },
 "nbformat": 4,
 "nbformat_minor": 2
}
