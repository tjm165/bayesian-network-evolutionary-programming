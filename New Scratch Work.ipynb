{
 "cells": [
  {
   "cell_type": "markdown",
   "metadata": {},
   "source": [
    "## To Do:\n",
    "\n",
    "1. ~~In A_HEP I have a param for num_attr. However, just get this from the dataframe~~\n",
    "1. ~~Make a simple mock data~~\n",
    "1. ~~Run A_HEP on the mock data~~\n",
    "1. ~~There will probably be bugs so fix them~~\n",
    "1. ~~Visualize~~\n",
    "1. ~~I strayed off and started coding EP. This needs to sort `n_lowest_score` and then it should work. This is a good idea. The datatype is acting up?..~~\n",
    "1. Make your own library and a new notebook\n",
    "1. Get this working on the real data. This might include some data cleaning\n",
    "1. There will probably be bugs so fix them\n",
    "1. Try to teach common cause, common effect, etc...\n",
    "1. Make better mock data. Maybe a simpler network? \n",
    "1. Get the __increase_routine\n",
    "1. Get the __decrease_routine\n",
    "1. Get the merge\n",
    "1. Done with EP"
   ]
  },
  {
   "cell_type": "code",
   "execution_count": 1,
   "metadata": {},
   "outputs": [],
   "source": [
    "# Note, there will be 10 minutes to present. I think I should get some class partipation\n",
    "\n",
    "# This might be interesting \n",
    "https://pomegranate.readthedocs.io/en/latest/BayesianNetwork.html#pomegranate.BayesianNetwork.BayesianNetwork.from_samples\n",
    "\n",
    "\n",
    "\n",
    "# Occam's Razor\n",
    "# https://www.cs.cmu.edu/~aarti/Class/10704/lec13-MDL.pdf\n",
    "import copy\n",
    "import random\n",
    "import math\n",
    "\n",
    "from pgmpy.estimators import BicScore\n",
    "import pandas as pd\n",
    "import numpy as np\n",
    "import networkx as nx\n",
    "import matplotlib.pyplot as plt\n",
    "from more_itertools import sort_together"
   ]
  },
  {
   "cell_type": "code",
   "execution_count": 2,
   "metadata": {},
   "outputs": [
    {
     "data": {
      "text/plain": [
       "[(0, 0, 0, 1, 1, 1, 1, 2, 2), ('a', 'd', 'h', 'b', 'c', 'e', 'i', 'f', 'g')]"
      ]
     },
     "execution_count": 2,
     "metadata": {},
     "output_type": "execute_result"
    }
   ],
   "source": [
    "X = [\"a\", \"b\", \"c\", \"d\", \"e\", \"f\", \"g\", \"h\", \"i\"]\n",
    "Y = [ 0,   1,   1,    0,   1,   2,   2,   0,   1]\n",
    "sort_together([Y, X])"
   ]
  },
  {
   "cell_type": "code",
   "execution_count": 3,
   "metadata": {},
   "outputs": [],
   "source": []
  },
  {
   "cell_type": "code",
   "execution_count": 4,
   "metadata": {},
   "outputs": [
    {
     "data": {
      "text/plain": [
       "'\\ndef merge(list_of_networks):\\n    pass\\n\\ndef __increase_routine(offspring_networks,\\n                       rand_1, \\n                       current_population_size, \\n                       max_population_size, \\n                       current_generation_number,\\n                       max_generation_number):\\n    \\n    next_generation = []\\n    new_population_size = current_population_size\\n    i = 0\\n    while (rand_1 > current_population_size / max_population_size and \\n           rand_2 > current_generation_number / max_generation_number and \\n           i < current_population_size):\\n        for network in offspring_networks: #networks are the mutated offspring\\n            if avg_distance(network) > far_factor.cross(num_nodes(network)):\\n                next_generation.append(network) # and both its parents\\n                new_population_size += 1\\n                \\n    return next_generation\\n            \\ndef __decrease_routine():\\n    pass\\n'"
      ]
     },
     "execution_count": 4,
     "metadata": {},
     "output_type": "execute_result"
    }
   ],
   "source": [
    "# can skip for now\n",
    "\"\"\"\n",
    "def merge(list_of_networks):\n",
    "    pass\n",
    "\n",
    "def __increase_routine(offspring_networks,\n",
    "                       rand_1, \n",
    "                       current_population_size, \n",
    "                       max_population_size, \n",
    "                       current_generation_number,\n",
    "                       max_generation_number):\n",
    "    \n",
    "    next_generation = []\n",
    "    new_population_size = current_population_size\n",
    "    i = 0\n",
    "    while (rand_1 > current_population_size / max_population_size and \n",
    "           rand_2 > current_generation_number / max_generation_number and \n",
    "           i < current_population_size):\n",
    "        for network in offspring_networks: #networks are the mutated offspring\n",
    "            if avg_distance(network) > far_factor.cross(num_nodes(network)):\n",
    "                next_generation.append(network) # and both its parents\n",
    "                new_population_size += 1\n",
    "                \n",
    "    return next_generation\n",
    "            \n",
    "def __decrease_routine():\n",
    "    pass\n",
    "\"\"\""
   ]
  },
  {
   "cell_type": "code",
   "execution_count": 5,
   "metadata": {},
   "outputs": [],
   "source": [
    "def create_population(p_init, var_names):\n",
    "    population = []\n",
    "    \n",
    "    for _ in range(p_init):\n",
    "        matrix = []\n",
    "        for _ in range(len(var_names)):\n",
    "            array = [random.randint(0, 1) for _ in range(len(var_names))]\n",
    "            matrix.append(array)\n",
    "        \n",
    "        population.append(network(matrix, var_names))\n",
    "    \n",
    "    return population"
   ]
  },
  {
   "cell_type": "code",
   "execution_count": 6,
   "metadata": {},
   "outputs": [],
   "source": [
    "def A_HEP(p_init, Gen_total, dataframe):\n",
    "    \"\"\"\n",
    "    p_init : Initial population size\n",
    "    Gen_total: Total generation number\n",
    "    num_attr: The number of attributes in the data\n",
    "    \"\"\"\n",
    "    \n",
    "    num_attr = len(dataframe.columns)\n",
    "    \n",
    "    scorer = MDL_Scorer(dataframe)\n",
    "    \n",
    "    Gen_c = 0 # current generation number\n",
    "    population = create_population(p_init, list(dataframe.columns))\n",
    "    p_c = len(population) # current population size\n",
    "    \n",
    "    while Gen_c < Gen_total:\n",
    "        shuffled = population.copy()\n",
    "        random.shuffle(shuffled)\n",
    "        to_merge = shuffled[:int(len(shuffled)/2)]\n",
    "        # merge(to_merge) \n",
    "        unselected = shuffled[int(len(shuffled)/2):]\n",
    "        \n",
    "        offspring = []\n",
    "        for network in unselected:\n",
    "            offspring.append(network.mutate())\n",
    "        population += offspring\n",
    "            \n",
    "        Gen_c +=1\n",
    "        # p_new = this is the increase and decrease routines\n",
    "        # p_c = p_new\n",
    "\n",
    "    return scorer.lowest_score(population)"
   ]
  },
  {
   "cell_type": "code",
   "execution_count": 7,
   "metadata": {},
   "outputs": [],
   "source": [
    "def EP(p_init, Gen_total, dataframe):\n",
    "    \"\"\"\n",
    "    p_init : Initial population size\n",
    "    Gen_total: Total generation number\n",
    "    num_attr: The number of attributes in the data\n",
    "    \"\"\"\n",
    "    \n",
    "    num_attr = len(dataframe.columns)\n",
    "    \n",
    "    scorer = MDL_Scorer(dataframe)\n",
    "    \n",
    "    Gen_c = 0 # current generation number\n",
    "    population = create_population(p_init, list(dataframe.columns))\n",
    "    p_c = len(population) # current population size\n",
    "    \n",
    "    while Gen_c < Gen_total:\n",
    "        shuffled = population.copy()\n",
    "        random.shuffle(shuffled)\n",
    "        to_merge = shuffled[:int(len(shuffled)/2)]\n",
    "        # merge(to_merge) \n",
    "        unselected = shuffled[int(len(shuffled)/2):]\n",
    "        \n",
    "        offspring = []\n",
    "        for network in unselected:\n",
    "            offspring.append(network.mutate())\n",
    "        population += offspring\n",
    "        population = scorer.n_lowest_score(int(len(population) / 2), population)\n",
    "            \n",
    "        Gen_c +=1\n",
    "        # p_new = this is the increase and decrease routines\n",
    "        # p_c = p_new\n",
    "\n",
    "    return scorer.lowest_score(population)"
   ]
  },
  {
   "cell_type": "markdown",
   "metadata": {},
   "source": [
    "## Sample on a simple dataset\n",
    "\n",
    "A --> B and A --> C\n",
    "\n",
    "So\n",
    "Rain --> Wet Grass,\n",
    "Rain --> Neighbors grass is wet"
   ]
  },
  {
   "cell_type": "code",
   "execution_count": 8,
   "metadata": {
    "scrolled": false
   },
   "outputs": [
    {
     "name": "stderr",
     "output_type": "stream",
     "text": [
      "/opt/anaconda3/lib/python3.7/site-packages/networkx/drawing/nx_pylab.py:579: MatplotlibDeprecationWarning: \n",
      "The iterable function was deprecated in Matplotlib 3.1 and will be removed in 3.3. Use np.iterable instead.\n",
      "  if not cb.iterable(width):\n",
      "/opt/anaconda3/lib/python3.7/site-packages/networkx/drawing/nx_pylab.py:676: MatplotlibDeprecationWarning: \n",
      "The iterable function was deprecated in Matplotlib 3.1 and will be removed in 3.3. Use np.iterable instead.\n",
      "  if cb.iterable(node_size):  # many node sizes\n"
     ]
    },
    {
     "data": {
      "image/png": "[encoded data removed]",
      "text/plain": [
       "<Figure size 432x288 with 1 Axes>"
      ]
     },
     "metadata": {},
     "output_type": "display_data"
    },
    {
     "name": "stdout",
     "output_type": "stream",
     "text": [
      "\n"
     ]
    }
   ],
   "source": [
    "data = pd.DataFrame([[1, 1, 1], [0, 0, 0], [1, 1, 1], [0, 1, 0], [0, 0, 1]])\n",
    "data = pd.DataFrame([['y', 'y', 'y'], ['n', 'n', 'n'], ['y', 'y', 'y'], ['n', 'y', 'n'], ['n', 'n', 'y']])\n",
    "data.columns = ['Rain', 'Wet Grass', 'Neighbors Grass is Wet']\n",
    "# bc = BicScore(data)\n",
    "# m1 = np.array([[0, 1, 1], [0, 0, 0], [0, 0, 0]])\n",
    "\n",
    "r = EP(p_init=100, Gen_total=100, dataframe=data)\n",
    "r['best_network'].draw()\n",
    "print()"
   ]
  },
  {
   "cell_type": "markdown",
   "metadata": {},
   "source": [
    "Interesting. It seems to be ignoring the Rain common parent. I wonder if this is my fault or its fault"
   ]
  },
  {
   "cell_type": "markdown",
   "metadata": {},
   "source": [
    "## Let's try to understand the MDL Score a bit better"
   ]
  },
  {
   "cell_type": "markdown",
   "metadata": {},
   "source": [
    "# Constant data, modify the network to try to manipulate the scores"
   ]
  },
  {
   "cell_type": "code",
   "execution_count": 9,
   "metadata": {},
   "outputs": [],
   "source": [
    "data = pd.DataFrame([['y', 'y', 'y'], ['n', 'n', 'n'], ['y', 'y', 'y'], ['n', 'y', 'n'], ['n', 'n', 'y']])\n",
    "data.columns = ['Rain', 'Wet Grass', 'Neighbors Grass is Wet']\n",
    "\n",
    "scorer = MDL_Scorer(data)\n",
    "\n",
    "def test(array):\n",
    "    n = network(np.array(array), data.columns)\n",
    "    n.draw()\n",
    "    print(scorer.score(n))"
   ]
  },
  {
   "cell_type": "code",
   "execution_count": 10,
   "metadata": {},
   "outputs": [
    {
     "data": {
      "text/plain": [
       "[<matplotlib.lines.Line2D at 0x7f86e2ad5f90>]"
      ]
     },
     "execution_count": 10,
     "metadata": {},
     "output_type": "execute_result"
    },
    {
     "data": {
      "image/png": "[encoded data removed]",
      "text/plain": [
       "<Figure size 432x288 with 1 Axes>"
      ]
     },
     "metadata": {
      "needs_background": "light"
     },
     "output_type": "display_data"
    }
   ],
   "source": [
    "matrix = [[0, 0, 0], [0, 0, 0], [0, 0, 0]]\n",
    "n = network(matrix, data.columns)\n",
    "scores = [scorer.score(n)]\n",
    "\n",
    "for i in range(len(matrix)):\n",
    "    for j in range(len(matrix)):\n",
    "        if i != j:\n",
    "            n.matrix[i][j] = 1\n",
    "            scores.append(scorer.score(n))\n",
    "        \n",
    "plt.plot(list(range(len(scores))), scores)"
   ]
  },
  {
   "cell_type": "code",
   "execution_count": null,
   "metadata": {},
   "outputs": [],
   "source": []
  }
 ],
 "metadata": {
  "kernelspec": {
   "display_name": "Python 3",
   "language": "python",
   "name": "python3"
  },
  "language_info": {
   "codemirror_mode": {
    "name": "ipython",
    "version": 3
   },
   "file_extension": ".py",
   "mimetype": "text/x-python",
   "name": "python",
   "nbconvert_exporter": "python",
   "pygments_lexer": "ipython3",
   "version": "3.7.4"
  }
 },
 "nbformat": 4,
 "nbformat_minor": 2
}
