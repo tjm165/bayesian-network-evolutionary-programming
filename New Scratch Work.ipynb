{
 "cells": [
  {
   "cell_type": "code",
   "execution_count": 105,
   "metadata": {},
   "outputs": [],
   "source": [
    "# This might be interesting \n",
    "# https://pomegranate.readthedocs.io/en/latest/BayesianNetwork.html#pomegranate.BayesianNetwork.BayesianNetwork.from_samples\n",
    "\n",
    "\n",
    "\n",
    "# Occam's Razor\n",
    "# https://www.cs.cmu.edu/~aarti/Class/10704/lec13-MDL.pdf\n",
    "import copy\n",
    "import random\n",
    "import math\n",
    "\n",
    "from pgmpy.estimators import BicScore\n",
    "import pandas as pd\n",
    "import numpy as np\n",
    "\n",
    "class network:\n",
    "    def __init__(self, matrix, var_names):\n",
    "        \"\"\"\n",
    "        matrix is [parents_of_node, parents_of_node, ...]\n",
    "        \"\"\"\n",
    "        \n",
    "        self.matrix = matrix\n",
    "        self.var_names = var_names\n",
    "        \n",
    "    def node_names(self, nodes):\n",
    "        if isinstance(nodes, list):\n",
    "            names = []\n",
    "            for i in nodes:\n",
    "                names.append(__node_name(i))\n",
    "            return names\n",
    "        return __node_name(nodes)\n",
    "            \n",
    "    def __node_name(self, i):\n",
    "        return self.var_names[i]\n",
    "        \n",
    "    def num_nodes(self):\n",
    "        pass\n",
    "    \n",
    "    def get_node(i, j=None):\n",
    "        if j is None:\n",
    "            return self.matrix.item(i)\n",
    "        return self.item((i, j))\n",
    "    \n",
    "    def get_parents(self, i):\n",
    "        possible_parents = self.matrix[i]\n",
    "        parents = []\n",
    "        \n",
    "        for row in parents:\n",
    "            if parents[row] == 1:\n",
    "                parents.append((row + 1) * (i + 1) - 1)\n",
    "                \n",
    "        return parents\n",
    "    \n",
    "    def mutate(self):\n",
    "        mutations = [network.__delete_edge]\n",
    "        num_nodes = len(self.matrix)\n",
    "        \n",
    "        node = random.randint(0, num_nodes - 1)\n",
    "        parent = random.randint(0, num_nodes - 1)\n",
    "        mutation = random.randint(0, len(mutations) - 1)\n",
    "        \n",
    "        return mutations[mutation](self, node, parent)\n",
    "    \n",
    "    def copy(self):\n",
    "        return network(copy.deepcopy(self.matrix))\n",
    "\n",
    "    def __delete_edge(self, node, parent):\n",
    "        network2 = self.copy()\n",
    "        network2.matrix[node][parent] = 0\n",
    "        return network2\n",
    "    \n",
    "class MDL_Scorer:\n",
    "    def __init__(dataframe):\n",
    "        self.estimator = BicScore(dataframe)\n",
    "    \n",
    "    def score(self, network):\n",
    "        total = 0\n",
    "        for i in network.num_nodes():\n",
    "            parents = network.get_parents(i) # get parents\n",
    "\n",
    "            node_name = node_name(i)\n",
    "            parent_name = parent_names(parents)\n",
    "            total += self.estimator.local_score(node_name, parent_names)\n",
    "            \n",
    "        return total \n",
    "    \n",
    "    def lowest_score(networks):\n",
    "        result = {'best_index': -1,\n",
    "                 'best_score': float('inf'),\n",
    "                 'best_network': None}\n",
    "        \n",
    "        for i in range(len(networks)):\n",
    "            network = networks[i]\n",
    "            local = score(network)\n",
    "            \n",
    "            if local < best_score:\n",
    "                result['best_index'] = i\n",
    "                result['best_score'] = local\n",
    "                result['best_network'] = networks[i]\n",
    "                \n",
    "        return result"
   ]
  },
  {
   "cell_type": "code",
   "execution_count": 68,
   "metadata": {},
   "outputs": [
    {
     "name": "stdout",
     "output_type": "stream",
     "text": [
      "[[1, 1, 1], [1, 1, 1], [1, 1, 1]]\n",
      "[[1, 1, 1], [1, 1, 0], [1, 1, 1]]\n"
     ]
    }
   ],
   "source": [
    "n1 = network([\n",
    "            [1, 1, 1],\n",
    "             [1, 1, 1],\n",
    "             [1, 1, 1]])\n",
    "\n",
    "n2 = n1.mutate()\n",
    "\n",
    "print(n1.matrix)\n",
    "print(n2.matrix)"
   ]
  },
  {
   "cell_type": "code",
   "execution_count": 69,
   "metadata": {},
   "outputs": [
    {
     "data": {
      "text/plain": [
       "'\\ndef merge(list_of_networks):\\n    pass\\n\\ndef __increase_routine(offspring_networks,\\n                       rand_1, \\n                       current_population_size, \\n                       max_population_size, \\n                       current_generation_number,\\n                       max_generation_number):\\n    \\n    next_generation = []\\n    new_population_size = current_population_size\\n    i = 0\\n    while (rand_1 > current_population_size / max_population_size and \\n           rand_2 > current_generation_number / max_generation_number and \\n           i < current_population_size):\\n        for network in offspring_networks: #networks are the mutated offspring\\n            if avg_distance(network) > far_factor.cross(num_nodes(network)):\\n                next_generation.append(network) # and both its parents\\n                new_population_size += 1\\n                \\n    return next_generation\\n            \\ndef __decrease_routine():\\n    pass\\n'"
      ]
     },
     "execution_count": 69,
     "metadata": {},
     "output_type": "execute_result"
    }
   ],
   "source": [
    "# can skip for now\n",
    "\"\"\"\n",
    "def merge(list_of_networks):\n",
    "    pass\n",
    "\n",
    "def __increase_routine(offspring_networks,\n",
    "                       rand_1, \n",
    "                       current_population_size, \n",
    "                       max_population_size, \n",
    "                       current_generation_number,\n",
    "                       max_generation_number):\n",
    "    \n",
    "    next_generation = []\n",
    "    new_population_size = current_population_size\n",
    "    i = 0\n",
    "    while (rand_1 > current_population_size / max_population_size and \n",
    "           rand_2 > current_generation_number / max_generation_number and \n",
    "           i < current_population_size):\n",
    "        for network in offspring_networks: #networks are the mutated offspring\n",
    "            if avg_distance(network) > far_factor.cross(num_nodes(network)):\n",
    "                next_generation.append(network) # and both its parents\n",
    "                new_population_size += 1\n",
    "                \n",
    "    return next_generation\n",
    "            \n",
    "def __decrease_routine():\n",
    "    pass\n",
    "\"\"\""
   ]
  },
  {
   "cell_type": "code",
   "execution_count": 70,
   "metadata": {},
   "outputs": [],
   "source": [
    "def create_population(p_init, length):\n",
    "    population = []\n",
    "    \n",
    "    for _ in range(p_init):\n",
    "        matrix = []\n",
    "        for _ in range(length):\n",
    "            array = [random.randint(0, 1) for _ in range(length)]\n",
    "            matrix.append(array)\n",
    "        \n",
    "        population.append(network(matrix))\n",
    "    \n",
    "    return population"
   ]
  },
  {
   "cell_type": "code",
   "execution_count": 75,
   "metadata": {},
   "outputs": [
    {
     "data": {
      "text/plain": [
       "[[1, 1, 1, 1, 0],\n",
       " [0, 0, 0, 1, 1],\n",
       " [1, 1, 1, 0, 0],\n",
       " [0, 1, 0, 0, 0],\n",
       " [1, 0, 1, 1, 1]]"
      ]
     },
     "execution_count": 75,
     "metadata": {},
     "output_type": "execute_result"
    }
   ],
   "source": [
    "def A_HEP(p_init, Gen_total, num_attr, dataframe):\n",
    "    \"\"\"\n",
    "    p_init : Initial population size\n",
    "    Gen_total: Total generation number\n",
    "    num_attr: The number of attributes in the data\n",
    "    \"\"\"\n",
    "    \n",
    "    scorer = MDL_Scorer(dataframe)\n",
    "    \n",
    "    Gen_c = 0 # current generation number\n",
    "    population = create_population(p_init, num_attr)\n",
    "    p_c = len(population) # current population size\n",
    "    \n",
    "    while Gen_c < Gen_total:\n",
    "        shuffled = population.copy()\n",
    "        random.shuffle(shuffled)\n",
    "        to_merge = shuffled[:int(len(shuffled)/2)]\n",
    "        # merge(to_merge) \n",
    "        unselected = shuffled[int(len(shuffled)/2):]\n",
    "        \n",
    "        offspring = []\n",
    "        for network in unselected:\n",
    "            offspring.append(network.mutate())\n",
    "        population += offspring\n",
    "            \n",
    "        Gen_c +=1\n",
    "        # p_new = this is the increase and decrease routines\n",
    "        # p_c = p_new\n",
    "\n",
    "    return scorer.lowest_MDL(population)\n",
    "    \n",
    "A_HEP(5, 10, 5)"
   ]
  },
  {
   "cell_type": "markdown",
   "metadata": {},
   "source": [
    "## To Do:\n",
    "\n",
    "1. In A_HEP I have a param for num_attr. However, just get this from the dataframe\n",
    "1. Make a simple mock data\n",
    "1. Run A_HEP on the mock data\n",
    "1. There will probably be bugs so fix them\n",
    "1. Get this running on the real data set. This will require data cleaning. Also is the data all 0s??\n",
    "1. There will probably be bugs so fix them\n",
    "1. Get the __increase_routine\n",
    "1. Get the __decrease_routine\n",
    "1. Get the merge\n",
    "1. Done with EP"
   ]
  },
  {
   "cell_type": "code",
   "execution_count": null,
   "metadata": {},
   "outputs": [],
   "source": []
  }
 ],
 "metadata": {
  "kernelspec": {
   "display_name": "Python 3",
   "language": "python",
   "name": "python3"
  },
  "language_info": {
   "codemirror_mode": {
    "name": "ipython",
    "version": 3
   },
   "file_extension": ".py",
   "mimetype": "text/x-python",
   "name": "python",
   "nbconvert_exporter": "python",
   "pygments_lexer": "ipython3",
   "version": "3.7.4"
  }
 },
 "nbformat": 4,
 "nbformat_minor": 2
}
